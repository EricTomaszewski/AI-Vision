{
 "cells": [
  {
   "cell_type": "code",
   "execution_count": 2,
   "metadata": {},
   "outputs": [
    {
     "ename": "ImportError",
     "evalue": "Unable to import dependency onnxruntime. ",
     "output_type": "error",
     "traceback": [
      "\u001b[1;31m---------------------------------------------------------------------------\u001b[0m",
      "\u001b[1;31mModuleNotFoundError\u001b[0m                       Traceback (most recent call last)",
      "File \u001b[1;32mc:\\Users\\irene\\AppData\\Local\\Programs\\Python\\Python311\\Lib\\site-packages\\insightface\\__init__.py:8\u001b[0m\n\u001b[0;32m      6\u001b[0m \u001b[39mtry\u001b[39;00m:\n\u001b[0;32m      7\u001b[0m     \u001b[39m#import mxnet as mx\u001b[39;00m\n\u001b[1;32m----> 8\u001b[0m     \u001b[39mimport\u001b[39;00m \u001b[39monnxruntime\u001b[39;00m\n\u001b[0;32m      9\u001b[0m \u001b[39mexcept\u001b[39;00m \u001b[39mImportError\u001b[39;00m:\n",
      "\u001b[1;31mModuleNotFoundError\u001b[0m: No module named 'onnxruntime'",
      "\nDuring handling of the above exception, another exception occurred:\n",
      "\u001b[1;31mImportError\u001b[0m                               Traceback (most recent call last)",
      "\u001b[1;32mc:\\Users\\irene\\!AI-Vision\\FaceSwap-InsightFace\\FaceSwap-InsightFace.ipynb Cell 1\u001b[0m line \u001b[0;36m8\n\u001b[0;32m      <a href='vscode-notebook-cell:/c%3A/Users/irene/%21AI-Vision/FaceSwap-InsightFace/FaceSwap-InsightFace.ipynb#W0sZmlsZQ%3D%3D?line=4'>5</a>\u001b[0m \u001b[39mimport\u001b[39;00m \u001b[39mmatplotlib\u001b[39;00m\u001b[39m.\u001b[39;00m\u001b[39mpyplot\u001b[39;00m \u001b[39mas\u001b[39;00m \u001b[39mplt\u001b[39;00m\n\u001b[0;32m      <a href='vscode-notebook-cell:/c%3A/Users/irene/%21AI-Vision/FaceSwap-InsightFace/FaceSwap-InsightFace.ipynb#W0sZmlsZQ%3D%3D?line=6'>7</a>\u001b[0m \u001b[39m# import onnxruntime\u001b[39;00m\n\u001b[1;32m----> <a href='vscode-notebook-cell:/c%3A/Users/irene/%21AI-Vision/FaceSwap-InsightFace/FaceSwap-InsightFace.ipynb#W0sZmlsZQ%3D%3D?line=7'>8</a>\u001b[0m \u001b[39mimport\u001b[39;00m \u001b[39minsightface\u001b[39;00m\n\u001b[0;32m      <a href='vscode-notebook-cell:/c%3A/Users/irene/%21AI-Vision/FaceSwap-InsightFace/FaceSwap-InsightFace.ipynb#W0sZmlsZQ%3D%3D?line=8'>9</a>\u001b[0m \u001b[39mfrom\u001b[39;00m \u001b[39minsightface\u001b[39;00m\u001b[39m.\u001b[39;00m\u001b[39mapp\u001b[39;00m \u001b[39mimport\u001b[39;00m FaceAnalysis\n\u001b[0;32m     <a href='vscode-notebook-cell:/c%3A/Users/irene/%21AI-Vision/FaceSwap-InsightFace/FaceSwap-InsightFace.ipynb#W0sZmlsZQ%3D%3D?line=9'>10</a>\u001b[0m \u001b[39mfrom\u001b[39;00m \u001b[39minsightface\u001b[39;00m\u001b[39m.\u001b[39;00m\u001b[39mdata\u001b[39;00m \u001b[39mimport\u001b[39;00m get_image \u001b[39mas\u001b[39;00m ins_get_image\n",
      "File \u001b[1;32mc:\\Users\\irene\\AppData\\Local\\Programs\\Python\\Python311\\Lib\\site-packages\\insightface\\__init__.py:10\u001b[0m\n\u001b[0;32m      8\u001b[0m     \u001b[39mimport\u001b[39;00m \u001b[39monnxruntime\u001b[39;00m\n\u001b[0;32m      9\u001b[0m \u001b[39mexcept\u001b[39;00m \u001b[39mImportError\u001b[39;00m:\n\u001b[1;32m---> 10\u001b[0m     \u001b[39mraise\u001b[39;00m \u001b[39mImportError\u001b[39;00m(\n\u001b[0;32m     11\u001b[0m         \u001b[39m\"\u001b[39m\u001b[39mUnable to import dependency onnxruntime. \u001b[39m\u001b[39m\"\u001b[39m\n\u001b[0;32m     12\u001b[0m     )\n\u001b[0;32m     14\u001b[0m __version__ \u001b[39m=\u001b[39m \u001b[39m'\u001b[39m\u001b[39m0.7.3\u001b[39m\u001b[39m'\u001b[39m\n\u001b[0;32m     16\u001b[0m \u001b[39mfrom\u001b[39;00m \u001b[39m.\u001b[39;00m \u001b[39mimport\u001b[39;00m model_zoo\n",
      "\u001b[1;31mImportError\u001b[0m: Unable to import dependency onnxruntime. "
     ]
    }
   ],
   "source": [
    "import numpy as np\n",
    "import os\n",
    "import glob\n",
    "import cv2\n",
    "import matplotlib.pyplot as plt\n",
    "\n",
    "# import onnxruntime\n",
    "import insightface\n",
    "from insightface.app import FaceAnalysis\n",
    "from insightface.data import get_image as ins_get_image"
   ]
  },
  {
   "cell_type": "markdown",
   "metadata": {},
   "source": []
  }
 ],
 "metadata": {
  "kernelspec": {
   "display_name": "Python 3",
   "language": "python",
   "name": "python3"
  },
  "language_info": {
   "codemirror_mode": {
    "name": "ipython",
    "version": 3
   },
   "file_extension": ".py",
   "mimetype": "text/x-python",
   "name": "python",
   "nbconvert_exporter": "python",
   "pygments_lexer": "ipython3",
   "version": "3.11.2"
  },
  "orig_nbformat": 4
 },
 "nbformat": 4,
 "nbformat_minor": 2
}
